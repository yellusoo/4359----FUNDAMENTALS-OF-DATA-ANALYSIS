{
 "cells": [
  {
   "cell_type": "markdown",
   "metadata": {},
   "source": [
    "## Task File - Fundamentals of Data Analysis\n",
    "\n",
    "### Author: OOS"
   ]
  },
  {
   "cell_type": "markdown",
   "metadata": {},
   "source": [
    "#### Task 1 - The Collatz Conjecture\n",
    "\n",
    "##### The Collatz conjecture is a famous and unproven maths conjecture or problem which states that any positive integer, if even, continuously divided by 2 or if odd, continuously divided by 3 and added to 1, will always results in the number 1. As it applies to every possible positive integer, its not yet possible to prove for every case. It can be defined in mathematical notation as\n",
    "\n",
    "if x is even $$ f(x) =  x ÷ 2 $$  otherwise $$ f(x) = 3x + 1 $$ \n",
    "\n",
    "##### This program checks this is true for the first 10,000 numbers"
   ]
  },
  {
   "cell_type": "code",
   "execution_count": 2,
   "metadata": {},
   "outputs": [
    {
     "name": "stdout",
     "output_type": "stream",
     "text": [
      "10000 , 5000\n",
      "5000 , 2500\n",
      "2500 , 1250\n",
      "1250 , 625\n",
      "625 , 1876 , 938\n",
      "938 , 469\n",
      "469 , 1408 , 704\n",
      "704 , 352\n",
      "352 , 176\n",
      "176 , 88\n",
      "88 , 44\n",
      "44 , 22\n",
      "22 , 11\n",
      "11 , 34 , 17\n",
      "17 , 52 , 26\n",
      "26 , 13\n",
      "13 , 40 , 20\n",
      "20 , 10\n",
      "10 , 5\n",
      "5 , 16 , 8\n",
      "8 , 4\n",
      "4 , 2\n",
      "2 , 1\n",
      "1\n"
     ]
    }
   ],
   "source": [
    "x = 5\n",
    "\n",
    "#Checking if number if even, then If number is even, then its divding it by 2\n",
    "\n",
    "def func(x):\n",
    "\n",
    "    if x % 2 == 0:\n",
    "        print(x // 2)\n",
    "        return x // 2\n",
    "\n",
    "#Checking if number is odd, then if number is odd, then adding 1\n",
    "\n",
    "    elif x % 2 == 1:\n",
    "        result = 3 * x + 1\n",
    "        return result\n",
    "\n",
    "#The following code taken partially from https://ultimatetheorem.blogspot.com/2020/08/visualization-of-collatz-conjecture_10.html\n",
    "#This code defines the function \"collatz\" and while it's not equal to 1, repeats the function above and prints the value of x for each step. \n",
    "# When it reaches one, it prints \"1\" and finishes.\n",
    "\n",
    "def collatz(x):\n",
    "    while x != 1:\n",
    "        print(x, end=' , ')\n",
    "        x = func(x)\n",
    "    print(x)\n",
    "               \n",
    "collatz(10000)"
   ]
  },
  {
   "cell_type": "markdown",
   "metadata": {},
   "source": [
    "***\n",
    "\n",
    "### End of Task 1"
   ]
  },
  {
   "cell_type": "markdown",
   "metadata": {},
   "source": [
    "#### Task 2 - The Penguins data set\n",
    "\n",
    "##### The Penguins data set is a famous and widely used dataset. The data was collected by Dr Kristen Gorman and features data about the characteristics of three species of penguins on three islands in the Palmer Archipelago, Antarctica. It contains seven fields columns of observations, three of which are Categorical (Species, Sex and Island) and three of which are Quantative or Continuous (Bill length, Bill depth, Flipper length,Body mass). \n",
    "\n",
    "#### Of the Categorical Variables;\n",
    "##### Sex can be considered dichotomous, as they can only take on one of two values (male or female)\n",
    "##### Both Island and Species each have only three possible values (Biscoe,Torgersen,Dream and Adelie,Chinstrap,Gentoo respectively) which cannot be logically ordered, so both can be considered Nominal variables.\n",
    "\n",
    "#### Of the Continuous Variables;\n",
    "##### Flipper Length and Body Mass are best described as Natural numbers, as neither are decimals and cannot be negative or zero.\n",
    "##### Bill Length and Bill Depth, while not potentially infinite and cannot be either negative or zero, are Rational Numbers.\n",
    "\n",
    "##### This program "
   ]
  },
  {
   "cell_type": "code",
   "execution_count": 3,
   "metadata": {},
   "outputs": [],
   "source": [
    "# To analyse this dataset, it would be useful to start with a simple summary table\n",
    "\n",
    "import numpy as np\n",
    "import pandas as pd\n",
    "\n",
    "data = pd.read_csv(\"C:/Users/Oisin/Data Course/4359 FUNDAMENTALS OF DATA ANALYSIS/penguins.csv\")\n",
    "df = pd.DataFrame(data, columns=[\"species\",\"island\", \"bill_length_mm\", \"bill_depth_mm\", \"flipper_length_mm\",\"body_mass_g\",\"\"])\n",
    "\n",
    "summary = data.describe()\n",
    "rounded_summary = np.round(summary,2)\n",
    "\n",
    "species = data['species'].tolist()\n",
    "island = data['island'].tolist()\n",
    "bill_length = data['bill_length_mm'].tolist()\n",
    "bill_depth = data['bill_depth_mm'].tolist()\n",
    "flipper_length = data['flipper_length_mm'].tolist()\n",
    "body_mass = data['body_mass_g'].tolist()\n",
    "sex = data['sex'].tolist()\n"
   ]
  }
 ],
 "metadata": {
  "kernelspec": {
   "display_name": "base",
   "language": "python",
   "name": "python3"
  },
  "language_info": {
   "codemirror_mode": {
    "name": "ipython",
    "version": 3
   },
   "file_extension": ".py",
   "mimetype": "text/x-python",
   "name": "python",
   "nbconvert_exporter": "python",
   "pygments_lexer": "ipython3",
   "version": "3.9.13"
  },
  "orig_nbformat": 4
 },
 "nbformat": 4,
 "nbformat_minor": 2
}
