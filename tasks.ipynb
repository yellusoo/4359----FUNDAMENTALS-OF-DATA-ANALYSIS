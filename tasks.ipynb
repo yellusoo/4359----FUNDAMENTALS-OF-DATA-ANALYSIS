{
 "cells": [
  {
   "cell_type": "markdown",
   "metadata": {},
   "source": [
    "## Task File - Fundamentals of Data Analysis\n",
    "\n",
    "### Author: OOS"
   ]
  },
  {
   "cell_type": "markdown",
   "metadata": {},
   "source": [
    "#### Task 1 - The Collatz Conjecture\n",
    "\n",
    "##### The Collatz conjecture is a famous and unproved maths problem defined as\n",
    "\n",
    "if x is even $$ f(x) =  x ÷ 2 $$  otherwise $$ 3x + 1 $$ \n",
    "\n",
    "##### This program checks this is true for the first 10,000 numbers"
   ]
  },
  {
   "cell_type": "code",
   "execution_count": 7,
   "metadata": {},
   "outputs": [
    {
     "name": "stdout",
     "output_type": "stream",
     "text": [
      "10000 , 5000\n",
      "5000 , 2500\n",
      "2500 , 1250\n",
      "1250 , 625\n",
      "625 , 1876 , 938\n",
      "938 , 469\n",
      "469 , 1408 , 704\n",
      "704 , 352\n",
      "352 , 176\n",
      "176 , 88\n",
      "88 , 44\n",
      "44 , 22\n",
      "22 , 11\n",
      "11 , 34 , 17\n",
      "17 , 52 , 26\n",
      "26 , 13\n",
      "13 , 40 , 20\n",
      "20 , 10\n",
      "10 , 5\n",
      "5 , 16 , 8\n",
      "8 , 4\n",
      "4 , 2\n",
      "2 , 1\n",
      "1\n"
     ]
    }
   ],
   "source": [
    "x = 5\n",
    "\n",
    "#Checking if number if even, then If number is even, then its divding it by 2\n",
    "\n",
    "def func(x):\n",
    "\n",
    "    if x % 2 == 0:\n",
    "        print(x // 2)\n",
    "        return x // 2\n",
    "\n",
    "#Checking if number is odd, then if number is odd, then adding 1\n",
    "\n",
    "    elif x % 2 == 1:\n",
    "        result = 3 * x + 1\n",
    "        return result\n",
    "\n",
    "#The following code taken partially from https://ultimatetheorem.blogspot.com/2020/08/visualization-of-collatz-conjecture_10.html\n",
    "\n",
    "def collatz(x):\n",
    "    while x != 1:\n",
    "        print(x, end=' , ')\n",
    "        x = func(x)\n",
    "    print(x)\n",
    "               \n",
    "collatz(10000)\n"
   ]
  },
  {
   "cell_type": "markdown",
   "metadata": {},
   "source": [
    "***\n",
    "\n",
    "### End of Task 1"
   ]
  }
 ],
 "metadata": {
  "kernelspec": {
   "display_name": "base",
   "language": "python",
   "name": "python3"
  },
  "language_info": {
   "codemirror_mode": {
    "name": "ipython",
    "version": 3
   },
   "file_extension": ".py",
   "mimetype": "text/x-python",
   "name": "python",
   "nbconvert_exporter": "python",
   "pygments_lexer": "ipython3",
   "version": "3.9.13"
  },
  "orig_nbformat": 4
 },
 "nbformat": 4,
 "nbformat_minor": 2
}
