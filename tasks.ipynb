{
 "cells": [
  {
   "cell_type": "markdown",
   "metadata": {},
   "source": [
    "## Task File - Fundamentals of Data Analysis\n",
    "\n",
    "### Author: OOS"
   ]
  },
  {
   "cell_type": "markdown",
   "metadata": {},
   "source": [
    "#### Task 1 - The Collatz Conjecture\n",
    "\n",
    "##### The Collatz conjecture is a famous and unproven maths conjecture or problem which states that any positive integer, if even, continuously divided by 2 or if odd, continuously divided by 3 and added to 1, will always results in the number 1. As it applies to every possible positive integer, its not yet possible to prove for every case. It can be defined in mathematical notation as\n",
    "\n",
    "if x is even $$ f(x) =  x ÷ 2 $$  otherwise $$ f(x) = 3x + 1 $$ \n",
    "\n",
    "##### This program checks this is true for the first 10,000 numbers"
   ]
  },
  {
   "cell_type": "code",
   "execution_count": null,
   "metadata": {},
   "outputs": [],
   "source": [
    "x = 5\n",
    "\n",
    "#Checking if number if even, then If number is even, then its divding it by 2\n",
    "\n",
    "def func(x):\n",
    "\n",
    "    if x % 2 == 0:\n",
    "        print(x // 2)\n",
    "        return x // 2\n",
    "\n",
    "#Checking if number is odd, then if number is odd, then adding 1\n",
    "\n",
    "    elif x % 2 == 1:\n",
    "        result = 3 * x + 1\n",
    "        return result\n",
    "\n",
    "#The following code taken partially from https://ultimatetheorem.blogspot.com/2020/08/visualization-of-collatz-conjecture_10.html\n",
    "#This code defines the function \"collatz\" and while it's not equal to 1, repeats the function above and prints the value of x for each step. \n",
    "# When it reaches one, it prints \"1\" and finishes.\n",
    "\n",
    "def collatz(x):\n",
    "    while x != 1:\n",
    "        print(x, end=' , ')\n",
    "        x = func(x)\n",
    "    print(x)\n",
    "               \n",
    "collatz(10000)"
   ]
  },
  {
   "cell_type": "markdown",
   "metadata": {},
   "source": [
    "***\n",
    "\n",
    "### End of Task 1"
   ]
  },
  {
   "cell_type": "markdown",
   "metadata": {},
   "source": [
    "#### Task 2 - The Penguins data set\n",
    "\n",
    "##### The Penguins data set is a famous and widely used dataset. It contains seven fields categorising observations, three of which are Categorical (Species, Sex and Island) and three of which are Quantative or Continuous (Bill length, Bill depth, Flipper length,Body mass). \n",
    "\n",
    "#### To analyse this dataset, it would be useful to start with a simple summary table\n",
    "\n",
    "##### This program "
   ]
  },
  {
   "cell_type": "code",
   "execution_count": 11,
   "metadata": {},
   "outputs": [
    {
     "name": "stdout",
     "output_type": "stream",
     "text": [
      "<bound method NDFrame.head of     species     island  bill_length_mm  bill_depth_mm  flipper_length_mm  \\\n",
      "0    Adelie  Torgersen            39.1           18.7              181.0   \n",
      "1    Adelie  Torgersen            39.5           17.4              186.0   \n",
      "2    Adelie  Torgersen            40.3           18.0              195.0   \n",
      "3    Adelie  Torgersen             NaN            NaN                NaN   \n",
      "4    Adelie  Torgersen            36.7           19.3              193.0   \n",
      "..      ...        ...             ...            ...                ...   \n",
      "339  Gentoo     Biscoe             NaN            NaN                NaN   \n",
      "340  Gentoo     Biscoe            46.8           14.3              215.0   \n",
      "341  Gentoo     Biscoe            50.4           15.7              222.0   \n",
      "342  Gentoo     Biscoe            45.2           14.8              212.0   \n",
      "343  Gentoo     Biscoe            49.9           16.1              213.0   \n",
      "\n",
      "     body_mass_g     sex  \n",
      "0         3750.0    MALE  \n",
      "1         3800.0  FEMALE  \n",
      "2         3250.0  FEMALE  \n",
      "3            NaN     NaN  \n",
      "4         3450.0  FEMALE  \n",
      "..           ...     ...  \n",
      "339          NaN     NaN  \n",
      "340       4850.0  FEMALE  \n",
      "341       5750.0    MALE  \n",
      "342       5200.0  FEMALE  \n",
      "343       5400.0    MALE  \n",
      "\n",
      "[344 rows x 7 columns]>\n"
     ]
    },
    {
     "data": {
      "text/plain": [
       "list"
      ]
     },
     "execution_count": 11,
     "metadata": {},
     "output_type": "execute_result"
    }
   ],
   "source": [
    "# To analyse this dataset, it would be useful to start with a simple summary table\n",
    "\n",
    "import numpy as np\n",
    "import pandas as pd\n",
    "\n",
    "penguins = pd.read_csv(\"C:/Users/Oisin/Data Course/4359 FUNDAMENTALS OF DATA ANALYSIS/penguins.csv\")\n",
    "\n",
    "print(penguins.head)"
   ]
  }
 ],
 "metadata": {
  "kernelspec": {
   "display_name": "base",
   "language": "python",
   "name": "python3"
  },
  "language_info": {
   "codemirror_mode": {
    "name": "ipython",
    "version": 3
   },
   "file_extension": ".py",
   "mimetype": "text/x-python",
   "name": "python",
   "nbconvert_exporter": "python",
   "pygments_lexer": "ipython3",
   "version": "3.9.13"
  },
  "orig_nbformat": 4
 },
 "nbformat": 4,
 "nbformat_minor": 2
}
