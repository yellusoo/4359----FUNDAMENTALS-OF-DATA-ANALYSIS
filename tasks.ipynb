{
 "cells": [
  {
   "cell_type": "markdown",
   "metadata": {},
   "source": [
    "## Task File - Fundamentals of Data Analysis\n",
    "\n",
    "### Author: OOS"
   ]
  },
  {
   "cell_type": "markdown",
   "metadata": {},
   "source": [
    "#### Task 1 - The Collatz Conjecture\n",
    "\n",
    "##### The Collatz conjecture is a famous and unproven maths conjecture or problem which states that any positive integer, if even, continuously divided by 2 or if odd, continuously divided by 3 and added to 1, will always results in the number 1. As it applies to every possible positive integer, its not yet possible to prove for every case. It can be defined in mathematical notation as\n",
    "\n",
    "if x is even $$ f(x) =  x ÷ 2 $$  otherwise $$ f(x) = 3x + 1 $$ \n",
    "\n",
    "##### This program checks this is true for the first 10,000 numbers"
   ]
  },
  {
   "cell_type": "code",
   "execution_count": null,
   "metadata": {},
   "outputs": [],
   "source": [
    "x = 5\n",
    "\n",
    "#Checking if number if even, then If number is even, then its divding it by 2\n",
    "\n",
    "def func(x):\n",
    "\n",
    "    if x % 2 == 0:\n",
    "        print(x // 2)\n",
    "        return x // 2\n",
    "\n",
    "#Checking if number is odd, then if number is odd, then adding 1\n",
    "\n",
    "    elif x % 2 == 1:\n",
    "        result = 3 * x + 1\n",
    "        return result\n",
    "\n",
    "#The following code taken partially from https://ultimatetheorem.blogspot.com/2020/08/visualization-of-collatz-conjecture_10.html\n",
    "#This code defines the function \"collatz\" and while it's not equal to 1, repeats the function above and prints the value of x for each step. \n",
    "# When it reaches one, it prints \"1\" and finishes.\n",
    "\n",
    "def collatz(x):\n",
    "    while x != 1:\n",
    "        print(x, end=' , ')\n",
    "        x = func(x)\n",
    "    print(x)\n",
    "               \n",
    "collatz(10000)"
   ]
  },
  {
   "cell_type": "markdown",
   "metadata": {},
   "source": [
    "***\n",
    "\n",
    "### End of Task 1"
   ]
  },
  {
   "cell_type": "markdown",
   "metadata": {},
   "source": [
    "#### Task 2 - The Penguins data set\n",
    "\n",
    "##### The Penguins data set is a famous and \n",
    "\n",
    "##### This program "
   ]
  }
 ],
 "metadata": {
  "kernelspec": {
   "display_name": "base",
   "language": "python",
   "name": "python3"
  },
  "language_info": {
   "codemirror_mode": {
    "name": "ipython",
    "version": 3
   },
   "file_extension": ".py",
   "mimetype": "text/x-python",
   "name": "python",
   "nbconvert_exporter": "python",
   "pygments_lexer": "ipython3",
   "version": "3.9.13"
  },
  "orig_nbformat": 4
 },
 "nbformat": 4,
 "nbformat_minor": 2
}
