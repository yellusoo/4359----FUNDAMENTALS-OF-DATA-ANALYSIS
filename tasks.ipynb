{
 "cells": [
  {
   "cell_type": "markdown",
   "metadata": {},
   "source": [
    "## Task 1 - The Collatz Conjecture\n",
    "\n",
    "# Author: OOS"
   ]
  },
  {
   "cell_type": "markdown",
   "metadata": {},
   "source": [
    "The following code is from: https://stackoverflow.com/questions/33508034/making-a-collatz-program-automate-the-boring-stuff"
   ]
  },
  {
   "cell_type": "code",
   "execution_count": 7,
   "metadata": {},
   "outputs": [],
   "source": [
    "value = input(\"Please enter a positive whole integer between 1 and 10,000: \")\n",
    "\n",
    "def collatz(number):\n",
    "\n",
    "    if number % 2 == 0:\n",
    "        print(number // 2)\n",
    "        return number // 2\n",
    "\n",
    "    elif number % 2 == 1:\n",
    "        result = 3 * number + 1\n",
    "        return result\n",
    "\n",
    "for i in range(1, 10000):\n",
    "    while value != 1:\n",
    "        value = collatz(int(value))\n",
    "\n",
    "#This code take from https://ultimatetheorem.blogspot.com/2020/08/visualization-of-collatz-conjecture_10.html\n",
    "\n"
   ]
  }
 ],
 "metadata": {
  "kernelspec": {
   "display_name": "base",
   "language": "python",
   "name": "python3"
  },
  "language_info": {
   "codemirror_mode": {
    "name": "ipython",
    "version": 3
   },
   "file_extension": ".py",
   "mimetype": "text/x-python",
   "name": "python",
   "nbconvert_exporter": "python",
   "pygments_lexer": "ipython3",
   "version": "3.9.13"
  },
  "orig_nbformat": 4
 },
 "nbformat": 4,
 "nbformat_minor": 2
}
