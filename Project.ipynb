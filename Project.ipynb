{
 "cells": [
  {
   "cell_type": "code",
   "execution_count": null,
   "metadata": {},
   "outputs": [],
   "source": []
  },
  {
   "cell_type": "markdown",
   "metadata": {},
   "source": [
    "### This is the project file for 4359-FUNDAMENTALS-OF-DATA-ANALYSIS\n",
    "#### Author: OOS\n",
    "\n",
    "***"
   ]
  },
  {
   "cell_type": "markdown",
   "metadata": {},
   "source": [
    "##### This dataset, provided in this repository as a CSV file, is a famous dataset used by statistician/biologist Roald Fisher in 1936. However, the actual raw data was collected by Edgar Anderson, and as such is sometimes referred to as  It is also known as the \"Iris dataset\" as it contains data on three different Iris flower species (Iris setosa, Iris virginica and Iris versicolor). Each of these flower species features 50 individual data points or samples. These data points are measuring one of four features of each Iris flower - The width of the petals, the width of the sepals, the length of the petals, and the length of the sepals. This type of dataset is referred to as a \"multivariate\" dataset as it contains more than one random variable."
   ]
  },
  {
   "cell_type": "markdown",
   "metadata": {},
   "source": [
    "***\n",
    "\n",
    "### End"
   ]
  }
 ],
 "metadata": {
  "kernelspec": {
   "display_name": "base",
   "language": "python",
   "name": "python3"
  },
  "language_info": {
   "codemirror_mode": {
    "name": "ipython",
    "version": 3
   },
   "file_extension": ".py",
   "mimetype": "text/x-python",
   "name": "python",
   "nbconvert_exporter": "python",
   "pygments_lexer": "ipython3",
   "version": "3.9.13"
  },
  "orig_nbformat": 4
 },
 "nbformat": 4,
 "nbformat_minor": 2
}
