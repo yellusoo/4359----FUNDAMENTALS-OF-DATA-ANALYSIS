{
 "cells": [
  {
   "cell_type": "markdown",
   "metadata": {},
   "source": [
    "# Random Numbers in numpy\n",
    "\n",
    "****"
   ]
  },
  {
   "cell_type": "markdown",
   "metadata": {},
   "source": [
    "### Python Std Library\n",
    "\n",
    "https://docs.python.org/3/library/\n",
    "\n",
    "Put a ? in front of function anem generates a help message"
   ]
  },
  {
   "cell_type": "code",
   "execution_count": null,
   "metadata": {},
   "outputs": [],
   "source": [
    "import random\n",
    "\n",
    "random.randint(10, 100)\n"
   ]
  },
  {
   "cell_type": "markdown",
   "metadata": {},
   "source": [
    "L = is handy notation in Python, as it serves a role similar to that of writing out a for loop. \n",
    "\n",
    "List comprehensions, ues a list generator. \n",
    "\n",
    "Hard to get PC to gen random numbers, so people design sequences of numebrs that don't repeat that often. Looks random to humans, its really pseudo random (or deterministic). Very hard to guess next number if you dont know the algorythm or starting poitn (\"seed\"). \n",
    "Every number will appear in sequence at about the same frequency, uniform distribution. Usually use decimal expansion of pi. No pattern. \n",
    "Can create pesudo-random but really deterministic sequence. \n",
    "Also some attempt to create chips that are truly random - Heat distribution is random. Use this heat to generate random numbers, closer to true random numbers."
   ]
  },
  {
   "cell_type": "code",
   "execution_count": null,
   "metadata": {},
   "outputs": [],
   "source": [
    "# List of 100 random integers between 1 and 10\n",
    "\n",
    "L = [random.randint(1,10) for i in range(100)]\n",
    "\n",
    "L[:10]"
   ]
  },
  {
   "cell_type": "code",
   "execution_count": null,
   "metadata": {},
   "outputs": [],
   "source": [
    "# List of car makes\n",
    "\n",
    "makes = ['Toyota', 'Skoda', 'Ford', 'Renault']\n",
    "\n",
    "#Select one at random\n",
    "\n",
    "random.choice(makes)\n",
    "\n"
   ]
  },
  {
   "cell_type": "code",
   "execution_count": null,
   "metadata": {},
   "outputs": [],
   "source": [
    "# 10 random makes\n",
    " \n",
    "random.choices(makes, k=10)"
   ]
  },
  {
   "cell_type": "code",
   "execution_count": null,
   "metadata": {},
   "outputs": [],
   "source": [
    "# First 8 letters of alphabet\n",
    "\n",
    "letters = ['a','b','c','d','e','f','g','h']\n",
    "\n",
    "#Shuffle them. THis command actually changes the list to a new one\n",
    "\n",
    "random.shuffle(letters)\n",
    "\n",
    "letters"
   ]
  },
  {
   "cell_type": "code",
   "execution_count": null,
   "metadata": {},
   "outputs": [],
   "source": [
    "# Random selection without replacement. Won't get same letter twice.\n",
    "\n",
    "random.sample(letters, k=4)"
   ]
  },
  {
   "cell_type": "code",
   "execution_count": null,
   "metadata": {},
   "outputs": [],
   "source": [
    "# Random selection with replacement. Can get same letter twice.\n",
    "\n",
    "random.choices(letters, k=4)"
   ]
  },
  {
   "cell_type": "code",
   "execution_count": null,
   "metadata": {},
   "outputs": [],
   "source": [
    "#Generates random floating point number between 0 and 1\n",
    "\n",
    "upoit = (random.random())\n",
    "print(upoit)\n",
    "\n",
    "type (random.random())"
   ]
  },
  {
   "cell_type": "code",
   "execution_count": null,
   "metadata": {},
   "outputs": [],
   "source": [
    "#Random FP number in between two end-points. Here,  2 and 100\n",
    "\n",
    "random.uniform(2, 100)"
   ]
  },
  {
   "cell_type": "markdown",
   "metadata": {},
   "source": [
    "## End\n",
    "\n",
    "****"
   ]
  }
 ],
 "metadata": {
  "kernelspec": {
   "display_name": "base",
   "language": "python",
   "name": "python3"
  },
  "language_info": {
   "codemirror_mode": {
    "name": "ipython",
    "version": 3
   },
   "file_extension": ".py",
   "mimetype": "text/x-python",
   "name": "python",
   "nbconvert_exporter": "python",
   "pygments_lexer": "ipython3",
   "version": "3.9.13"
  }
 },
 "nbformat": 4,
 "nbformat_minor": 2
}
