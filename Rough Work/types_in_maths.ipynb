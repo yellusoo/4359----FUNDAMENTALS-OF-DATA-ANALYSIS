{
 "cells": [
  {
   "cell_type": "markdown",
   "metadata": {},
   "source": [
    "# Types in Maths \n",
    "\n",
    "****"
   ]
  },
  {
   "cell_type": "markdown",
   "metadata": {},
   "source": [
    "### Real numbers\n",
    "\n",
    "$ \\mathbb{R} = \\{\\ldots, -3, -2, -1, 0, 1 \\ldots \\} $\n",
    "\n",
    "Thought of as numbers on the number line. Infinite in both directions\n",
    "\n",
    "![Real Number Line](http://www.mathworkorange.com/articles_imgs/5814/real_n32.jpg)"
   ]
  },
  {
   "cell_type": "markdown",
   "metadata": {},
   "source": [
    "### Integers\n",
    "\n",
    "$ \\mathbb{Z} = \\{\\ldots, -3, -2, -1, 0, 1 \\ldots \\} $\n",
    "\n",
    "Systematic process of counting. Doesn't matter in what way we count a given group. Using a subset of integers. 1st thing = 1, 2nd thing = 2 etc. No natural order. \n",
    "\n",
    "Real numbers not good for counting. Humans have two systems in our heads. Can measur ebut not count. Can't list real numbers out - What's the number before 1? 0.9? 0.99? 0.99999? and so on. Infinite. \n",
    "\n"
   ]
  },
  {
   "cell_type": "markdown",
   "metadata": {},
   "source": [
    "### Problem with counting with Reals\n",
    "\n",
    "Looking for number just before 1:\n",
    "\n",
    "$ 0.999 $\n",
    "\n",
    "But $ 0.9999 $ closer, and $ 0.99999 $ is even closer. So its $0.9$ recurring. Can come up with a formula or equation for that $ 0.999  \\dots $\n",
    "\n",
    "Call the recurring number $x$\n",
    "\n",
    "So, $ 10x = 9.999999 $, which ain't right. \n",
    "\n",
    "Subtracting 1st line from 2nd line above gives $\\Rightarrow 10x - x = 9.9999 \\dots - 0.9999 \\dots $\n",
    "\n",
    "$\\Rightarrow 9x = 9.000 $\n",
    "\n",
    "$\\Rightarrow x = 1.000 $ or $ x = 1$\n",
    "\n",
    "Crucial thing is there is NO number just before one, but can get as close to one as possible, can get infinitely close to 1"
   ]
  }
 ],
 "metadata": {
  "language_info": {
   "name": "python"
  }
 },
 "nbformat": 4,
 "nbformat_minor": 2
}
