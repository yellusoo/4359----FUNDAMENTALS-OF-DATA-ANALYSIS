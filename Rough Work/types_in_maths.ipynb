{
 "cells": [
  {
   "cell_type": "markdown",
   "metadata": {},
   "source": [
    "# Types in Maths \n",
    "\n",
    "****"
   ]
  },
  {
   "cell_type": "markdown",
   "metadata": {},
   "source": [
    "### Real numbers\n",
    "\n",
    "$ \\mathbb{R} = \\{\\ldots, -3, -2, -1, 0, 1 \\ldots \\} $\n",
    "\n",
    "Thought of as numbers on the number line. Infinite in both directions\n",
    "\n",
    "![Real Number Line](http://www.mathworkorange.com/articles_imgs/5814/real_n32.jpg)\n",
    "\n",
    "Can't be put into correspondence with any other sets.\n",
    "\n",
    "Real numbers are different, proved by Cantor"
   ]
  },
  {
   "cell_type": "markdown",
   "metadata": {},
   "source": [
    "### Integers\n",
    "\n",
    "$ \\mathbb{Z} = \\{\\ldots, -3, -2, -1, 0, 1 \\ldots \\} $\n",
    "\n",
    "Systematic process of counting. Doesn't matter in what way we count a given group. Using a subset of integers. 1st thing = 1, 2nd thing = 2 etc. No natural order. \n",
    "\n",
    "Real numbers not good for counting. Humans have two systems in our heads. Can measur ebut not count. Can't list real numbers out - What's the number before 1? 0.9? 0.99? 0.99999? and so on. Infinite. \n",
    "\n"
   ]
  },
  {
   "cell_type": "markdown",
   "metadata": {},
   "source": [
    "### Problem with counting with Reals\n",
    "\n",
    "Looking for number just before 1:\n",
    "\n",
    "$ 0.999 $\n",
    "\n",
    "But $ 0.9999 $ closer, and $ 0.99999 $ is even closer. So its $0.9$ recurring. Can come up with a formula or equation for that $ 0.999  \\dots $\n",
    "\n",
    "Call the recurring number $x$\n",
    "\n",
    "So, $ 10x = 9.999999 $, which ain't right. \n",
    "\n",
    "Subtracting 1st line from 2nd line above gives $\\Rightarrow 10x - x = 9.9999 \\dots - 0.9999 \\dots $\n",
    "\n",
    "$\\Rightarrow 9x = 9.000 $\n",
    "\n",
    "$\\Rightarrow x = 1.000 $ or $ x = 1$\n",
    "\n",
    "Crucial thing is there is NO number just before one, but can get as close to one as possible, can get infinitely close to 1"
   ]
  },
  {
   "cell_type": "markdown",
   "metadata": {},
   "source": [
    "### Rational Numbers\n",
    "\n",
    "All the fractions basically. \n",
    "\n",
    "$ \\mathbb{Q} = \\{\\frac {m}{n} | m,n \\in \\mathbb{Z}\\} $\n",
    "\n",
    "With rationals, we can list them out\n",
    "\n",
    "Can find correspondence between rational and natural numbers, but not one that preserves the order."
   ]
  },
  {
   "cell_type": "markdown",
   "metadata": {},
   "source": [
    "### Natural Numbers\n",
    "\n",
    "$ \\mathbb{N} = \\{0, 1, 2 \\ldots \\} $\n",
    "\n",
    "$ \\mathbb{N_0} = \\{0, 1, 2 \\ldots \\} $\n",
    "\n",
    "Usually include 0. \n",
    "\n",
    "$ \\mathbb{N} = \\{1, 2, 3 \\ldots \\} $\n",
    "\n",
    "$ \\mathbb{2N} = \\{2, 4, 6\\ldots \\} $\n",
    "\n",
    "Natural numbers if listed, set N is paired with set N2. Can tell from the \"correspondence\" every number in 2N from knowing N, and vice versa. \n",
    "\n",
    "No overlap between N and 2N, correspondnce is unique in both directions. Bijection.\n",
    "\n",
    "Says that these two sets must be the same size, same number of items in them. Weird because:\n",
    "\n",
    "On one hand, $ \\mathbb{2N} \\subset \\mathbb{N} $\n",
    "\n",
    "But some things in $\\mathbb{N}$ not in $\\mathbb{2N}$\n",
    "\n",
    "$ \\mathbb{2N} $ and $ \\mathbb{N} $ have same size, but $ \\mathbb{2N} $ is a subset of  $\\mathbb{N} $\n",
    "\n",
    "Natural numbers contain all possible computer programs. Turing said that there's numbers on the number line we can never write out as humans. "
   ]
  },
  {
   "cell_type": "markdown",
   "metadata": {},
   "source": [
    "### Complex Numbers\n",
    "\n",
    "$ \\mathbb{C} = {a + bi | a, b \\in \\mathbb{R}, i^2 = -1 \\ } $\n",
    "\n",
    "Sit above Real numbers. Are important for quantum computing and best ways to do things in physics.\n",
    "\n"
   ]
  }
 ],
 "metadata": {
  "language_info": {
   "name": "python"
  }
 },
 "nbformat": 4,
 "nbformat_minor": 2
}
